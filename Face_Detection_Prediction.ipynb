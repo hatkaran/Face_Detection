{
  "nbformat": 4,
  "nbformat_minor": 0,
  "metadata": {
    "colab": {
      "provenance": [],
      "mount_file_id": "1qb2yjSh3uXrAvb3eyWFmpIJLiKAeQlHU",
      "authorship_tag": "ABX9TyPx1gZzqM1N/ldYlfzj8HVS",
      "include_colab_link": true
    },
    "kernelspec": {
      "name": "python3",
      "display_name": "Python 3"
    },
    "language_info": {
      "name": "python"
    }
  },
  "cells": [
    {
      "cell_type": "markdown",
      "metadata": {
        "id": "view-in-github",
        "colab_type": "text"
      },
      "source": [
        "<a href=\"https://colab.research.google.com/github/hatkaran/Face_Detection/blob/main/Face_Detection_Prediction.ipynb\" target=\"_parent\"><img src=\"https://colab.research.google.com/assets/colab-badge.svg\" alt=\"Open In Colab\"/></a>"
      ]
    },
    {
      "cell_type": "code",
      "source": [
        "\n",
        "!pip3 install mtcnn\n",
        "!pip3 install tensorflow"
      ],
      "metadata": {
        "colab": {
          "base_uri": "https://localhost:8080/"
        },
        "id": "fVuB7SMK_TsN",
        "outputId": "3795cad7-f6fc-492b-f979-dd457e32e28d"
      },
      "execution_count": 1,
      "outputs": [
        {
          "output_type": "stream",
          "name": "stdout",
          "text": [
            "Requirement already satisfied: mtcnn in /usr/local/lib/python3.10/dist-packages (0.1.1)\n",
            "Requirement already satisfied: keras>=2.0.0 in /usr/local/lib/python3.10/dist-packages (from mtcnn) (2.12.0)\n",
            "Requirement already satisfied: opencv-python>=4.1.0 in /usr/local/lib/python3.10/dist-packages (from mtcnn) (4.8.0.76)\n",
            "Requirement already satisfied: numpy>=1.21.2 in /usr/local/lib/python3.10/dist-packages (from opencv-python>=4.1.0->mtcnn) (1.23.5)\n",
            "Requirement already satisfied: tensorflow in /usr/local/lib/python3.10/dist-packages (2.12.0)\n",
            "Requirement already satisfied: absl-py>=1.0.0 in /usr/local/lib/python3.10/dist-packages (from tensorflow) (1.4.0)\n",
            "Requirement already satisfied: astunparse>=1.6.0 in /usr/local/lib/python3.10/dist-packages (from tensorflow) (1.6.3)\n",
            "Requirement already satisfied: flatbuffers>=2.0 in /usr/local/lib/python3.10/dist-packages (from tensorflow) (23.5.26)\n",
            "Requirement already satisfied: gast<=0.4.0,>=0.2.1 in /usr/local/lib/python3.10/dist-packages (from tensorflow) (0.4.0)\n",
            "Requirement already satisfied: google-pasta>=0.1.1 in /usr/local/lib/python3.10/dist-packages (from tensorflow) (0.2.0)\n",
            "Requirement already satisfied: grpcio<2.0,>=1.24.3 in /usr/local/lib/python3.10/dist-packages (from tensorflow) (1.57.0)\n",
            "Requirement already satisfied: h5py>=2.9.0 in /usr/local/lib/python3.10/dist-packages (from tensorflow) (3.9.0)\n",
            "Requirement already satisfied: jax>=0.3.15 in /usr/local/lib/python3.10/dist-packages (from tensorflow) (0.4.14)\n",
            "Requirement already satisfied: keras<2.13,>=2.12.0 in /usr/local/lib/python3.10/dist-packages (from tensorflow) (2.12.0)\n",
            "Requirement already satisfied: libclang>=13.0.0 in /usr/local/lib/python3.10/dist-packages (from tensorflow) (16.0.6)\n",
            "Requirement already satisfied: numpy<1.24,>=1.22 in /usr/local/lib/python3.10/dist-packages (from tensorflow) (1.23.5)\n",
            "Requirement already satisfied: opt-einsum>=2.3.2 in /usr/local/lib/python3.10/dist-packages (from tensorflow) (3.3.0)\n",
            "Requirement already satisfied: packaging in /usr/local/lib/python3.10/dist-packages (from tensorflow) (23.1)\n",
            "Requirement already satisfied: protobuf!=4.21.0,!=4.21.1,!=4.21.2,!=4.21.3,!=4.21.4,!=4.21.5,<5.0.0dev,>=3.20.3 in /usr/local/lib/python3.10/dist-packages (from tensorflow) (3.20.3)\n",
            "Requirement already satisfied: setuptools in /usr/local/lib/python3.10/dist-packages (from tensorflow) (67.7.2)\n",
            "Requirement already satisfied: six>=1.12.0 in /usr/local/lib/python3.10/dist-packages (from tensorflow) (1.16.0)\n",
            "Requirement already satisfied: tensorboard<2.13,>=2.12 in /usr/local/lib/python3.10/dist-packages (from tensorflow) (2.12.3)\n",
            "Requirement already satisfied: tensorflow-estimator<2.13,>=2.12.0 in /usr/local/lib/python3.10/dist-packages (from tensorflow) (2.12.0)\n",
            "Requirement already satisfied: termcolor>=1.1.0 in /usr/local/lib/python3.10/dist-packages (from tensorflow) (2.3.0)\n",
            "Requirement already satisfied: typing-extensions>=3.6.6 in /usr/local/lib/python3.10/dist-packages (from tensorflow) (4.7.1)\n",
            "Requirement already satisfied: wrapt<1.15,>=1.11.0 in /usr/local/lib/python3.10/dist-packages (from tensorflow) (1.14.1)\n",
            "Requirement already satisfied: tensorflow-io-gcs-filesystem>=0.23.1 in /usr/local/lib/python3.10/dist-packages (from tensorflow) (0.33.0)\n",
            "Requirement already satisfied: wheel<1.0,>=0.23.0 in /usr/local/lib/python3.10/dist-packages (from astunparse>=1.6.0->tensorflow) (0.41.2)\n",
            "Requirement already satisfied: ml-dtypes>=0.2.0 in /usr/local/lib/python3.10/dist-packages (from jax>=0.3.15->tensorflow) (0.2.0)\n",
            "Requirement already satisfied: scipy>=1.7 in /usr/local/lib/python3.10/dist-packages (from jax>=0.3.15->tensorflow) (1.10.1)\n",
            "Requirement already satisfied: google-auth<3,>=1.6.3 in /usr/local/lib/python3.10/dist-packages (from tensorboard<2.13,>=2.12->tensorflow) (2.17.3)\n",
            "Requirement already satisfied: google-auth-oauthlib<1.1,>=0.5 in /usr/local/lib/python3.10/dist-packages (from tensorboard<2.13,>=2.12->tensorflow) (1.0.0)\n",
            "Requirement already satisfied: markdown>=2.6.8 in /usr/local/lib/python3.10/dist-packages (from tensorboard<2.13,>=2.12->tensorflow) (3.4.4)\n",
            "Requirement already satisfied: requests<3,>=2.21.0 in /usr/local/lib/python3.10/dist-packages (from tensorboard<2.13,>=2.12->tensorflow) (2.31.0)\n",
            "Requirement already satisfied: tensorboard-data-server<0.8.0,>=0.7.0 in /usr/local/lib/python3.10/dist-packages (from tensorboard<2.13,>=2.12->tensorflow) (0.7.1)\n",
            "Requirement already satisfied: werkzeug>=1.0.1 in /usr/local/lib/python3.10/dist-packages (from tensorboard<2.13,>=2.12->tensorflow) (2.3.7)\n",
            "Requirement already satisfied: cachetools<6.0,>=2.0.0 in /usr/local/lib/python3.10/dist-packages (from google-auth<3,>=1.6.3->tensorboard<2.13,>=2.12->tensorflow) (5.3.1)\n",
            "Requirement already satisfied: pyasn1-modules>=0.2.1 in /usr/local/lib/python3.10/dist-packages (from google-auth<3,>=1.6.3->tensorboard<2.13,>=2.12->tensorflow) (0.3.0)\n",
            "Requirement already satisfied: rsa<5,>=3.1.4 in /usr/local/lib/python3.10/dist-packages (from google-auth<3,>=1.6.3->tensorboard<2.13,>=2.12->tensorflow) (4.9)\n",
            "Requirement already satisfied: requests-oauthlib>=0.7.0 in /usr/local/lib/python3.10/dist-packages (from google-auth-oauthlib<1.1,>=0.5->tensorboard<2.13,>=2.12->tensorflow) (1.3.1)\n",
            "Requirement already satisfied: charset-normalizer<4,>=2 in /usr/local/lib/python3.10/dist-packages (from requests<3,>=2.21.0->tensorboard<2.13,>=2.12->tensorflow) (3.2.0)\n",
            "Requirement already satisfied: idna<4,>=2.5 in /usr/local/lib/python3.10/dist-packages (from requests<3,>=2.21.0->tensorboard<2.13,>=2.12->tensorflow) (3.4)\n",
            "Requirement already satisfied: urllib3<3,>=1.21.1 in /usr/local/lib/python3.10/dist-packages (from requests<3,>=2.21.0->tensorboard<2.13,>=2.12->tensorflow) (2.0.4)\n",
            "Requirement already satisfied: certifi>=2017.4.17 in /usr/local/lib/python3.10/dist-packages (from requests<3,>=2.21.0->tensorboard<2.13,>=2.12->tensorflow) (2023.7.22)\n",
            "Requirement already satisfied: MarkupSafe>=2.1.1 in /usr/local/lib/python3.10/dist-packages (from werkzeug>=1.0.1->tensorboard<2.13,>=2.12->tensorflow) (2.1.3)\n",
            "Requirement already satisfied: pyasn1<0.6.0,>=0.4.6 in /usr/local/lib/python3.10/dist-packages (from pyasn1-modules>=0.2.1->google-auth<3,>=1.6.3->tensorboard<2.13,>=2.12->tensorflow) (0.5.0)\n",
            "Requirement already satisfied: oauthlib>=3.0.0 in /usr/local/lib/python3.10/dist-packages (from requests-oauthlib>=0.7.0->google-auth-oauthlib<1.1,>=0.5->tensorboard<2.13,>=2.12->tensorflow) (3.2.2)\n"
          ]
        }
      ]
    },
    {
      "cell_type": "code",
      "execution_count": 2,
      "metadata": {
        "id": "rbhdQM67986M"
      },
      "outputs": [],
      "source": [
        "\n",
        "import cv2\n",
        "import numpy as np\n",
        "import pandas as pd\n",
        "import tensorflow as tf\n",
        "from mtcnn.mtcnn import MTCNN\n",
        "detector  = MTCNN()\n"
      ]
    },
    {
      "cell_type": "code",
      "source": [
        "from google.colab import drive\n",
        "drive.mount('/content/drive')"
      ],
      "metadata": {
        "colab": {
          "base_uri": "https://localhost:8080/"
        },
        "id": "MPFg1dj_FKve",
        "outputId": "cb13cfd3-466a-424a-c0f2-37d27926e8ab"
      },
      "execution_count": 3,
      "outputs": [
        {
          "output_type": "stream",
          "name": "stdout",
          "text": [
            "Drive already mounted at /content/drive; to attempt to forcibly remount, call drive.mount(\"/content/drive\", force_remount=True).\n"
          ]
        }
      ]
    },
    {
      "cell_type": "code",
      "source": [
        "from keras import backend as K\n",
        "\n",
        "#to load the model weights\n",
        "Siamese_Net = tf.keras.models.load_model('/content/drive/MyDrive/Data of face recog./siamese_net.h5')"
      ],
      "metadata": {
        "id": "_Vb82amA_Nx7"
      },
      "execution_count": 4,
      "outputs": []
    },
    {
      "cell_type": "code",
      "source": [
        "class_images = pd.read_pickle(r'/content/drive/MyDrive/Data of face recog./class_images.pickle') #List Containing One Image of Every Class\n",
        "names = pd.read_pickle(r'/content/drive/MyDrive/Data of face recog./names.pickle') #List of Names of Every Class\n"
      ],
      "metadata": {
        "id": "DjmppIRE_OSk"
      },
      "execution_count": 5,
      "outputs": []
    },
    {
      "cell_type": "code",
      "source": [],
      "metadata": {
        "id": "hKP0EX9Z5r3-"
      },
      "execution_count": 5,
      "outputs": []
    },
    {
      "cell_type": "code",
      "source": [
        "IMG_SIZE = 80\n",
        "#Function to take inputs\n",
        "def input_image(path):\n",
        "  img = cv2.imread(path)\n",
        "  img = cv2.cvtColor(img, cv2.COLOR_BGR2RGB)\n",
        "  return img\n"
      ],
      "metadata": {
        "id": "W_SYdA2o_Op-"
      },
      "execution_count": 6,
      "outputs": []
    },
    {
      "cell_type": "code",
      "source": [
        "image = input_image('/content/drive/MyDrive/Data of face recog./Aaron_Eckhart_0001.jpg')\n",
        "image.shape"
      ],
      "metadata": {
        "colab": {
          "base_uri": "https://localhost:8080/"
        },
        "id": "SKH0y5VoMHjT",
        "outputId": "b71c700e-5aa5-4c6f-8e51-1803692c40ee"
      },
      "execution_count": 7,
      "outputs": [
        {
          "output_type": "execute_result",
          "data": {
            "text/plain": [
              "(250, 250, 3)"
            ]
          },
          "metadata": {},
          "execution_count": 7
        }
      ]
    },
    {
      "cell_type": "code",
      "source": [
        "detector.detect_faces(image)"
      ],
      "metadata": {
        "colab": {
          "base_uri": "https://localhost:8080/"
        },
        "id": "Zm55oCLpMrA5",
        "outputId": "8844ac94-787b-4d2b-fda2-ec9206c736f3"
      },
      "execution_count": 8,
      "outputs": [
        {
          "output_type": "stream",
          "name": "stdout",
          "text": [
            "1/1 [==============================] - 1s 687ms/step\n",
            "1/1 [==============================] - 0s 388ms/step\n",
            "1/1 [==============================] - 0s 109ms/step\n",
            "1/1 [==============================] - 0s 39ms/step\n",
            "1/1 [==============================] - 0s 37ms/step\n",
            "1/1 [==============================] - 0s 34ms/step\n",
            "1/1 [==============================] - 0s 33ms/step\n",
            "1/1 [==============================] - 0s 35ms/step\n",
            "1/1 [==============================] - 0s 326ms/step\n",
            "1/1 [==============================] - 0s 346ms/step\n"
          ]
        },
        {
          "output_type": "execute_result",
          "data": {
            "text/plain": [
              "[{'box': [70, 59, 97, 129],\n",
              "  'confidence': 0.9999411702156067,\n",
              "  'keypoints': {'left_eye': (106, 106),\n",
              "   'right_eye': (149, 112),\n",
              "   'nose': (131, 139),\n",
              "   'mouth_left': (104, 157),\n",
              "   'mouth_right': (140, 160)}}]"
            ]
          },
          "metadata": {},
          "execution_count": 8
        }
      ]
    },
    {
      "cell_type": "code",
      "source": [
        "image[59:59+129, 70:70+97]"
      ],
      "metadata": {
        "id": "pgpnDAGVNVKq",
        "colab": {
          "base_uri": "https://localhost:8080/"
        },
        "outputId": "271abfb0-4062-45e7-fb5e-98bca3116f5c"
      },
      "execution_count": 9,
      "outputs": [
        {
          "output_type": "execute_result",
          "data": {
            "text/plain": [
              "array([[[ 17,  18,  13],\n",
              "        [ 25,  24,  20],\n",
              "        [ 32,  29,  24],\n",
              "        ...,\n",
              "        [ 48,  36,  24],\n",
              "        [ 48,  36,  24],\n",
              "        [ 50,  37,  28]],\n",
              "\n",
              "       [[ 24,  23,  19],\n",
              "        [ 30,  29,  25],\n",
              "        [ 36,  33,  28],\n",
              "        ...,\n",
              "        [ 53,  39,  26],\n",
              "        [ 49,  35,  22],\n",
              "        [ 50,  36,  25]],\n",
              "\n",
              "       [[ 26,  25,  21],\n",
              "        [ 31,  30,  25],\n",
              "        [ 37,  32,  28],\n",
              "        ...,\n",
              "        [ 57,  43,  30],\n",
              "        [ 51,  37,  24],\n",
              "        [ 50,  36,  25]],\n",
              "\n",
              "       ...,\n",
              "\n",
              "       [[153, 161, 182],\n",
              "        [159, 167, 188],\n",
              "        [166, 177, 199],\n",
              "        ...,\n",
              "        [ 76,  80,  83],\n",
              "        [ 70,  74,  77],\n",
              "        [ 71,  75,  78]],\n",
              "\n",
              "       [[157, 165, 188],\n",
              "        [161, 169, 192],\n",
              "        [166, 176, 201],\n",
              "        ...,\n",
              "        [ 78,  82,  85],\n",
              "        [ 71,  75,  78],\n",
              "        [ 70,  74,  77]],\n",
              "\n",
              "       [[157, 165, 188],\n",
              "        [160, 168, 191],\n",
              "        [164, 174, 199],\n",
              "        ...,\n",
              "        [ 78,  82,  85],\n",
              "        [ 70,  74,  77],\n",
              "        [ 69,  73,  76]]], dtype=uint8)"
            ]
          },
          "metadata": {},
          "execution_count": 9
        }
      ]
    },
    {
      "cell_type": "code",
      "source": [
        "import cv2\n",
        "import numpy as np\n",
        "\n",
        "def make_prediction(path):\n",
        "  IMG_SIZE = 80\n",
        "  image = input_image(path)\n",
        "  face_locations = detector.detect_faces(image)\n",
        "\n",
        "  # Assuming you're iterating over multiple face locations\n",
        "  for face_loc in face_locations:\n",
        "    x, y, w, h = face_loc['box']  # Access the 'box' key within the dictionary\n",
        "    face = image[y:y+h, x:x+w]\n",
        "    face = cv2.resize(face, (IMG_SIZE, IMG_SIZE))\n",
        "    face_1 = np.reshape(face, (1, IMG_SIZE, IMG_SIZE, 3))\n",
        "\n",
        "    for idx in range(len(class_images)):\n",
        "        IMG_SIZE = 80\n",
        "        image1 = input_image(class_images[idx])\n",
        "        face_locations1 = detector.detect_faces(image1)\n",
        "        print(f\"Loaded class image: {class_images[idx]}\")\n",
        "\n",
        "        # Assuming you're iterating over multiple face locations\n",
        "        for face_loc1 in face_locations1:\n",
        "          x, y, w, h = face_loc1['box']  # Access the 'box' key within the dictionary\n",
        "          face1 = image1[y:y+h, x:x+w]\n",
        "          face1 = cv2.resize(face1, (IMG_SIZE, IMG_SIZE))\n",
        "          face_2 = np.reshape(face1, (1, IMG_SIZE, IMG_SIZE, 3))\n",
        "\n",
        "          prob = Siamese_Net.predict([face_1, face_2])\n",
        "          print(prob)\n",
        "          if prob[0][0] > 0.6:\n",
        "            print(f\"The name of person in the given image is {names[idx]}\")\n",
        "            return exit()\n",
        "          else:\n",
        "            print(\"Sorry, Image Not Found In The Dataset!!\")\n"
      ],
      "metadata": {
        "id": "PVj5oY5yxepo"
      },
      "execution_count": 10,
      "outputs": []
    },
    {
      "cell_type": "code",
      "source": [
        "print(make_prediction('/content/drive/MyDrive/Data of face recog./Abdel_Nasser_Assidi_0001.jpg'))"
      ],
      "metadata": {
        "id": "fw7GXGF1_5Ha",
        "colab": {
          "base_uri": "https://localhost:8080/"
        },
        "outputId": "518f242a-b56e-4b22-c735-38ffc389a44d"
      },
      "execution_count": 11,
      "outputs": [
        {
          "output_type": "stream",
          "name": "stdout",
          "text": [
            "1/1 [==============================] - 0s 45ms/step\n",
            "1/1 [==============================] - 0s 39ms/step\n",
            "1/1 [==============================] - 0s 43ms/step\n",
            "1/1 [==============================] - 0s 48ms/step\n",
            "1/1 [==============================] - 0s 47ms/step\n",
            "1/1 [==============================] - 0s 38ms/step\n",
            "1/1 [==============================] - 0s 65ms/step\n",
            "1/1 [==============================] - 0s 45ms/step\n",
            "4/4 [==============================] - 0s 13ms/step\n",
            "1/1 [==============================] - 0s 190ms/step\n",
            "1/1 [==============================] - 0s 52ms/step\n",
            "1/1 [==============================] - 0s 75ms/step\n",
            "1/1 [==============================] - 0s 69ms/step\n",
            "1/1 [==============================] - 0s 41ms/step\n",
            "1/1 [==============================] - 0s 54ms/step\n",
            "1/1 [==============================] - 0s 39ms/step\n",
            "1/1 [==============================] - 0s 94ms/step\n",
            "1/1 [==============================] - 0s 37ms/step\n",
            "1/1 [==============================] - 0s 74ms/step\n",
            "1/1 [==============================] - 0s 68ms/step\n",
            "Loaded class image: /content/drive/MyDrive/Data of face recog./DataImg/Aaron_Eckhart/Aaron_Eckhart_0001.jpg\n",
            "1/1 [==============================] - 1s 635ms/step\n",
            "[[0.]]\n",
            "Sorry, Image Not Found In The Dataset!!\n",
            "1/1 [==============================] - 0s 66ms/step\n",
            "1/1 [==============================] - 0s 39ms/step\n",
            "1/1 [==============================] - 0s 35ms/step\n",
            "1/1 [==============================] - 0s 40ms/step\n",
            "1/1 [==============================] - 0s 169ms/step\n",
            "1/1 [==============================] - 0s 36ms/step\n",
            "1/1 [==============================] - 0s 39ms/step\n",
            "1/1 [==============================] - 0s 84ms/step\n",
            "3/3 [==============================] - 0s 14ms/step\n",
            "1/1 [==============================] - 0s 74ms/step\n",
            "Loaded class image: /content/drive/MyDrive/Data of face recog./DataImg/Aaron_Guiel/Aaron_Guiel_0001.jpg\n",
            "1/1 [==============================] - 0s 247ms/step\n",
            "[[0.]]\n",
            "Sorry, Image Not Found In The Dataset!!\n",
            "1/1 [==============================] - 0s 77ms/step\n",
            "1/1 [==============================] - 0s 60ms/step\n",
            "1/1 [==============================] - 0s 75ms/step\n",
            "1/1 [==============================] - 0s 55ms/step\n",
            "1/1 [==============================] - 0s 83ms/step\n",
            "1/1 [==============================] - 0s 91ms/step\n",
            "1/1 [==============================] - 0s 70ms/step\n",
            "1/1 [==============================] - 0s 167ms/step\n",
            "2/2 [==============================] - 0s 10ms/step\n",
            "1/1 [==============================] - 0s 49ms/step\n",
            "Loaded class image: /content/drive/MyDrive/Data of face recog./DataImg/Aaron_Patterson/Aaron_Patterson_0001.jpg\n",
            "1/1 [==============================] - 0s 291ms/step\n",
            "[[0.]]\n",
            "Sorry, Image Not Found In The Dataset!!\n",
            "1/1 [==============================] - 0s 52ms/step\n",
            "1/1 [==============================] - 0s 41ms/step\n",
            "1/1 [==============================] - 0s 38ms/step\n",
            "1/1 [==============================] - 0s 34ms/step\n",
            "1/1 [==============================] - 0s 33ms/step\n",
            "1/1 [==============================] - 0s 35ms/step\n",
            "1/1 [==============================] - 0s 34ms/step\n",
            "1/1 [==============================] - 0s 34ms/step\n",
            "2/2 [==============================] - 0s 26ms/step\n",
            "1/1 [==============================] - 0s 62ms/step\n",
            "Loaded class image: /content/drive/MyDrive/Data of face recog./DataImg/Aaron_Peirsol/Aaron_Peirsol_0004.jpg\n",
            "1/1 [==============================] - 0s 253ms/step\n",
            "[[0.]]\n",
            "Sorry, Image Not Found In The Dataset!!\n",
            "1/1 [==============================] - 0s 50ms/step\n",
            "1/1 [==============================] - 0s 41ms/step\n",
            "1/1 [==============================] - 0s 40ms/step\n",
            "1/1 [==============================] - 0s 40ms/step\n",
            "1/1 [==============================] - 0s 38ms/step\n",
            "1/1 [==============================] - 0s 39ms/step\n",
            "1/1 [==============================] - 0s 32ms/step\n",
            "1/1 [==============================] - 0s 35ms/step\n",
            "2/2 [==============================] - 0s 14ms/step\n",
            "1/1 [==============================] - 0s 31ms/step\n",
            "Loaded class image: /content/drive/MyDrive/Data of face recog./DataImg/Aaron_Pena/Aaron_Pena_0001.jpg\n",
            "1/1 [==============================] - 0s 172ms/step\n",
            "[[0.]]\n",
            "Sorry, Image Not Found In The Dataset!!\n",
            "1/1 [==============================] - 0s 33ms/step\n",
            "1/1 [==============================] - 0s 28ms/step\n",
            "1/1 [==============================] - 0s 26ms/step\n",
            "1/1 [==============================] - 0s 23ms/step\n",
            "1/1 [==============================] - 0s 25ms/step\n",
            "1/1 [==============================] - 0s 22ms/step\n",
            "1/1 [==============================] - 0s 24ms/step\n",
            "1/1 [==============================] - 0s 24ms/step\n",
            "2/2 [==============================] - 0s 9ms/step\n",
            "1/1 [==============================] - 0s 48ms/step\n",
            "Loaded class image: /content/drive/MyDrive/Data of face recog./DataImg/Aaron_Sorkin/Aaron_Sorkin_0001.jpg\n",
            "1/1 [==============================] - 0s 163ms/step\n",
            "[[0.]]\n",
            "Sorry, Image Not Found In The Dataset!!\n",
            "1/1 [==============================] - 0s 33ms/step\n",
            "1/1 [==============================] - 0s 31ms/step\n",
            "1/1 [==============================] - 0s 27ms/step\n",
            "1/1 [==============================] - 0s 27ms/step\n",
            "1/1 [==============================] - 0s 25ms/step\n",
            "1/1 [==============================] - 0s 23ms/step\n",
            "1/1 [==============================] - 0s 29ms/step\n",
            "1/1 [==============================] - 0s 31ms/step\n",
            "4/4 [==============================] - 0s 10ms/step\n",
            "1/1 [==============================] - 0s 45ms/step\n",
            "Loaded class image: /content/drive/MyDrive/Data of face recog./DataImg/Aaron_Tippin/Aaron_Tippin_0001.jpg\n",
            "1/1 [==============================] - 0s 167ms/step\n",
            "[[0.]]\n",
            "Sorry, Image Not Found In The Dataset!!\n",
            "1/1 [==============================] - 0s 30ms/step\n",
            "1/1 [==============================] - 0s 27ms/step\n",
            "1/1 [==============================] - 0s 26ms/step\n",
            "1/1 [==============================] - 0s 26ms/step\n",
            "1/1 [==============================] - 0s 26ms/step\n",
            "1/1 [==============================] - 0s 27ms/step\n",
            "1/1 [==============================] - 0s 23ms/step\n",
            "1/1 [==============================] - 0s 22ms/step\n",
            "3/3 [==============================] - 0s 9ms/step\n",
            "1/1 [==============================] - 0s 38ms/step\n",
            "Loaded class image: /content/drive/MyDrive/Data of face recog./DataImg/Abba_Eban/Abba_Eban_0001.jpg\n",
            "1/1 [==============================] - 0s 159ms/step\n",
            "[[0.]]\n",
            "Sorry, Image Not Found In The Dataset!!\n",
            "1/1 [==============================] - 0s 39ms/step\n",
            "1/1 [==============================] - 0s 26ms/step\n",
            "1/1 [==============================] - 0s 34ms/step\n",
            "1/1 [==============================] - 0s 38ms/step\n",
            "1/1 [==============================] - 0s 32ms/step\n",
            "1/1 [==============================] - 0s 32ms/step\n",
            "1/1 [==============================] - 0s 30ms/step\n",
            "1/1 [==============================] - 0s 30ms/step\n",
            "2/2 [==============================] - 0s 8ms/step\n",
            "1/1 [==============================] - 0s 33ms/step\n",
            "Loaded class image: /content/drive/MyDrive/Data of face recog./DataImg/Abbas_Kiarostami/Abbas_Kiarostami_0001.jpg\n",
            "1/1 [==============================] - 0s 182ms/step\n",
            "[[0.]]\n",
            "Sorry, Image Not Found In The Dataset!!\n",
            "1/1 [==============================] - 0s 32ms/step\n",
            "1/1 [==============================] - 0s 27ms/step\n",
            "1/1 [==============================] - 0s 29ms/step\n",
            "1/1 [==============================] - 0s 24ms/step\n",
            "1/1 [==============================] - 0s 22ms/step\n",
            "1/1 [==============================] - 0s 21ms/step\n",
            "1/1 [==============================] - 0s 25ms/step\n",
            "1/1 [==============================] - 0s 27ms/step\n",
            "3/3 [==============================] - 0s 10ms/step\n",
            "1/1 [==============================] - 0s 63ms/step\n",
            "Loaded class image: /content/drive/MyDrive/Data of face recog./DataImg/Abdel_Aziz_Al-Hakim/Abdel_Aziz_Al-Hakim_0001.jpg\n",
            "1/1 [==============================] - 0s 168ms/step\n",
            "[[0.]]\n",
            "Sorry, Image Not Found In The Dataset!!\n",
            "1/1 [==============================] - 0s 162ms/step\n",
            "[[0.]]\n",
            "Sorry, Image Not Found In The Dataset!!\n",
            "1/1 [==============================] - 0s 31ms/step\n",
            "1/1 [==============================] - 0s 28ms/step\n",
            "1/1 [==============================] - 0s 36ms/step\n",
            "1/1 [==============================] - 0s 25ms/step\n",
            "1/1 [==============================] - 0s 24ms/step\n",
            "1/1 [==============================] - 0s 23ms/step\n",
            "1/1 [==============================] - 0s 24ms/step\n",
            "1/1 [==============================] - 0s 24ms/step\n",
            "2/2 [==============================] - 0s 10ms/step\n",
            "1/1 [==============================] - 0s 34ms/step\n",
            "Loaded class image: /content/drive/MyDrive/Data of face recog./DataImg/Abdel_Madi_Shabneh/Abdel_Madi_Shabneh_0001.jpg\n",
            "1/1 [==============================] - 0s 168ms/step\n",
            "[[0.]]\n",
            "Sorry, Image Not Found In The Dataset!!\n",
            "1/1 [==============================] - 0s 30ms/step\n",
            "1/1 [==============================] - 0s 26ms/step\n",
            "1/1 [==============================] - 0s 25ms/step\n",
            "1/1 [==============================] - 0s 25ms/step\n",
            "1/1 [==============================] - 0s 24ms/step\n",
            "1/1 [==============================] - 0s 25ms/step\n",
            "1/1 [==============================] - 0s 23ms/step\n",
            "1/1 [==============================] - 0s 29ms/step\n",
            "4/4 [==============================] - 0s 9ms/step\n",
            "1/1 [==============================] - 0s 64ms/step\n",
            "Loaded class image: /content/drive/MyDrive/Data of face recog./DataImg/Abdel_Nasser_Assidi/Abdel_Nasser_Assidi_0001.jpg\n",
            "1/1 [==============================] - 0s 174ms/step\n",
            "[[0.9692543]]\n",
            "The name of person in the given image is Abdel_Nasser_Assidi\n",
            "None\n"
          ]
        }
      ]
    }
  ]
}